{
 "cells": [
  {
   "cell_type": "code",
   "execution_count": 45,
   "metadata": {},
   "outputs": [],
   "source": [
    "import numpy as np\n",
    "import pandas as pd\n",
    "import os\n",
    "import matplotlib.pyplot as plt\n",
    "from scipy.ndimage import label\n"
   ]
  },
  {
   "cell_type": "code",
   "execution_count": 46,
   "metadata": {},
   "outputs": [],
   "source": [
    "behav_df = pd.read_csv('./data/derivatives/behav_df_cleaned_new.csv')\n",
    "behav_df = behav_df[behav_df['reach_vis_abs_err']<=60].reset_index(drop=True)\n",
    "\n",
    "burst_df = pd.read_csv('./data/derivatives/burst_features.csv')\n",
    "\n",
    "lookup_df = behav_df[[\"coh_cat\", \"perturb_cat\", \"trial\", \"block\", \"subject\"]]\n",
    "\n",
    "# Merge the two DataFrames based on the specified columns and fill missing values with NaN\n",
    "df_burst_behav = burst_df.merge(lookup_df, on=[\"trial\", \"block\", \"subject\"], how='left')\n"
   ]
  },
  {
   "cell_type": "code",
   "execution_count": 47,
   "metadata": {},
   "outputs": [],
   "source": [
    "vis_epoch_lims=(-1.0, 2.0)\n",
    "mot_epoch_lims=(-1.0, 1.5)\n",
    "vis_plot_lims=(-0.25, 1.85)\n",
    "mot_plot_lims=(-0.7, 1.2)"
   ]
  },
  {
   "cell_type": "code",
   "execution_count": 50,
   "metadata": {},
   "outputs": [],
   "source": [
    "def compute_burst_counts_by_pc_quartile(\n",
    "    df_burst_behav, behav_df, epoch,\n",
    "    window_width=0.2, step_size=0.025,\n",
    "    epoch_lims=(-1.0, 1.5), n_q=4\n",
    "):\n",
    "    output_dir = './output'\n",
    "    os.makedirs(output_dir, exist_ok=True)\n",
    "\n",
    "    time_centers = np.arange(epoch_lims[0] + window_width / 2,\n",
    "                             epoch_lims[1] - window_width / 2 + step_size,\n",
    "                             step_size)\n",
    "    time_columns = [f\"time_{round(tc, 3)}\" for tc in time_centers]\n",
    "\n",
    "    pcs = [col for col in df_burst_behav.columns if col.startswith(\"PC_\")]\n",
    "    burst_feature_cols = ['peak_time', 'peak_freq', 'peak_amp_base', 'fwhm_freq', 'fwhm_time']\n",
    "    metadata_cols = [col for col in df_burst_behav.columns if col not in pcs + burst_feature_cols]\n",
    "    group_cols = [\"subject\", \"block\", \"trial\"]\n",
    "\n",
    "    behav_df = behav_df.set_index(group_cols)\n",
    "    extra_behav_cols = [\n",
    "        'group',\n",
    "        'trial_perturb', 'reach_dur', 'reach_rt',\n",
    "        'trial_directions', 'trial_target', 'aim_target', 'reach_target',\n",
    "        'aim_real_angle', 'reach_real_angle', 'true_target_angle',\n",
    "        'reach_vis_angle', 'reach_vis_err', 'reach_vis_abs_err',\n",
    "        'aim_vis_angle', 'aim_vis_err', 'aim_vis_abs_err'\n",
    "    ]\n",
    "\n",
    "    for pc in ['PC_7','PC_8','PC_9','PC_10']:#pcs:\n",
    "        print(f\"Processing {pc}\")\n",
    "        step = 100 / n_q\n",
    "        q_bins = np.percentile(df_burst_behav[pc], np.arange(0, 100 + step, step))\n",
    "        quartile_dfs = []\n",
    "\n",
    "        for q in range(n_q):\n",
    "            df_q = df_burst_behav[\n",
    "                (df_burst_behav[pc] >= q_bins[q]) &\n",
    "                (df_burst_behav[pc] < q_bins[q + 1])\n",
    "            ].copy()\n",
    "            df_q[\"quartile\"] = q + 1\n",
    "\n",
    "            trial_groups = df_q.groupby(group_cols)\n",
    "            trial_records = []\n",
    "\n",
    "            for (subject, block, trial), trial_df in trial_groups:\n",
    "                trial_meta = trial_df.iloc[0][metadata_cols].to_dict()\n",
    "                trial_meta[\"quartile\"] = q + 1\n",
    "\n",
    "                # Count bursts in time windows\n",
    "                peak_times = trial_df[\"peak_time\"].values\n",
    "                for tc, col in zip(time_centers, time_columns):\n",
    "                    count = np.sum((peak_times >= tc - window_width / 2) & (peak_times < tc + window_width / 2))\n",
    "                    trial_meta[col] = count\n",
    "\n",
    "                # Add behavioral values\n",
    "                key = (subject, block, trial)\n",
    "                if key in behav_df.index:\n",
    "                    for col in extra_behav_cols:\n",
    "                        trial_meta[col] = behav_df.at[key, col]\n",
    "\n",
    "                trial_records.append(trial_meta)\n",
    "\n",
    "            quartile_df = pd.DataFrame(trial_records)\n",
    "            quartile_dfs.append(quartile_df)\n",
    "\n",
    "        pc_df = pd.concat(quartile_dfs, ignore_index=True)\n",
    "        pc_df.to_csv(os.path.join(output_dir, f\"{pc}_{epoch}_trial_burst_counts.csv\"), index=False)\n"
   ]
  },
  {
   "cell_type": "code",
   "execution_count": 51,
   "metadata": {},
   "outputs": [],
   "source": [
    "df_visual = df_burst_behav[df_burst_behav['epoch'] == 'vis']\n",
    "df_motor = df_burst_behav[df_burst_behav['epoch'] == 'mot']"
   ]
  },
  {
   "cell_type": "code",
   "execution_count": 52,
   "metadata": {},
   "outputs": [
    {
     "name": "stdout",
     "output_type": "stream",
     "text": [
      "Processing PC_7\n",
      "Processing PC_8\n",
      "Processing PC_9\n",
      "Processing PC_10\n"
     ]
    }
   ],
   "source": [
    "compute_burst_counts_by_pc_quartile(df_visual, behav_df, 'vis', epoch_lims=vis_epoch_lims)"
   ]
  },
  {
   "cell_type": "code",
   "execution_count": 53,
   "metadata": {},
   "outputs": [
    {
     "name": "stdout",
     "output_type": "stream",
     "text": [
      "Processing PC_7\n",
      "Processing PC_8\n",
      "Processing PC_9\n",
      "Processing PC_10\n"
     ]
    }
   ],
   "source": [
    "compute_burst_counts_by_pc_quartile(df_motor, behav_df, 'mot', epoch_lims=mot_epoch_lims)"
   ]
  }
 ],
 "metadata": {
  "kernelspec": {
   "display_name": "Python 3 (ipykernel)",
   "language": "python",
   "name": "python3"
  },
  "language_info": {
   "codemirror_mode": {
    "name": "ipython",
    "version": 3
   },
   "file_extension": ".py",
   "mimetype": "text/x-python",
   "name": "python",
   "nbconvert_exporter": "python",
   "pygments_lexer": "ipython3",
   "version": "3.11.5"
  }
 },
 "nbformat": 4,
 "nbformat_minor": 4
}
